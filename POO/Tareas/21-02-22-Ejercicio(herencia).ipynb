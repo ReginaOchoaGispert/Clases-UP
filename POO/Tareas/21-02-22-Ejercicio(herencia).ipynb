{
 "cells": [
  {
   "cell_type": "code",
   "execution_count": 53,
   "id": "47f49ae2-04b1-47cc-8365-662c68f60dfa",
   "metadata": {},
   "outputs": [],
   "source": [
    "class Empleado():\n",
    "    nombre: str\n",
    "    puesto: str\n",
    "    salario: int\n",
    "    antiguedad: int\n",
    "    \n",
    "    def __init__(self, nombre, puesto, antiguedad):\n",
    "        self.nombre = nombre\n",
    "        self.puesto = puesto\n",
    "        self.antiguedad = antiguedad\n",
    "    \n",
    "    def __repr__(self):\n",
    "        return (\n",
    "            self.nombre + \" es \" +\n",
    "            self.puesto + \", y su salario es: $\" +\n",
    "            str(self.calcular_salario())\n",
    "        )\n",
    "    \n",
    "    def calcular_salario(self):\n",
    "        return(self.salario + (1000 * self.antiguedad))\n",
    "        \n",
    "class Gerente(Empleado):\n",
    "    def __init__(self, nombre, puesto, antiguedad):\n",
    "        super().__init__(nombre,puesto,antiguedad)\n",
    "        self.salario = 50_000;\n",
    "        \n",
    "    def calcular_salario(self):\n",
    "        return self.salario\n",
    "    \n",
    "    def cambiar_salario(self, empleado, nuevo_salario):\n",
    "        if(empleado.puesto != \"gerente\"):\n",
    "            empleado.salario = nuevo_salario;\n",
    "        \n",
    "class Secretaria(Empleado):\n",
    "    def __init__(self, nombre, puesto, antiguedad):\n",
    "        super().__init__(nombre,puesto,antiguedad)\n",
    "        self.salario = 15_000\n",
    "    \n",
    "\n",
    "class Programador(Empleado):\n",
    "    def __init__(self, nombre, puesto, antiguedad):\n",
    "       \n",
    "        super().__init__(nombre,puesto,antiguedad)\n",
    "        self.salario = 25_000\n",
    "        "
   ]
  },
  {
   "cell_type": "code",
   "execution_count": 58,
   "id": "c8b50b43-6926-4f69-9d7d-9adb417a7c0c",
   "metadata": {},
   "outputs": [
    {
     "name": "stdout",
     "output_type": "stream",
     "text": [
      "luis es gerente, y su salario es: $50000\n",
      "renata es secretaria, y su salario es: $17000\n",
      "juan es programador, y su salario es: $27000\n",
      "renata es secretaria, y su salario es: $52000\n"
     ]
    }
   ],
   "source": [
    "luis=Gerente(\"luis\",\"gerente\",2)\n",
    "print(luis)\n",
    "renata=Secretaria(\"renata\",\"secretaria\",2)\n",
    "print(renata)\n",
    "juan=Programador(\"juan\",\"programador\",2)\n",
    "print(juan)\n",
    "\n",
    "luis.cambiar_salario(renata, 50_000);\n",
    "print(renata)\n",
    "\n"
   ]
  },
  {
   "cell_type": "code",
   "execution_count": null,
   "id": "a58bcac7-ebdc-4960-80bc-b32607f37bc3",
   "metadata": {},
   "outputs": [],
   "source": []
  }
 ],
 "metadata": {
  "kernelspec": {
   "display_name": "Python 3 (ipykernel)",
   "language": "python",
   "name": "python3"
  },
  "language_info": {
   "codemirror_mode": {
    "name": "ipython",
    "version": 3
   },
   "file_extension": ".py",
   "mimetype": "text/x-python",
   "name": "python",
   "nbconvert_exporter": "python",
   "pygments_lexer": "ipython3",
   "version": "3.9.5"
  }
 },
 "nbformat": 4,
 "nbformat_minor": 5
}
